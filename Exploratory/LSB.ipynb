{
 "cells": [
  {
   "cell_type": "code",
   "execution_count": 5,
   "metadata": {},
   "outputs": [],
   "source": [
    "import pandas as pd\n",
    "import matplotlib.pyplot as plt"
   ]
  },
  {
   "cell_type": "code",
   "execution_count": 4,
   "metadata": {},
   "outputs": [
    {
     "data": {
      "text/html": [
       "<div>\n",
       "<style scoped>\n",
       "    .dataframe tbody tr th:only-of-type {\n",
       "        vertical-align: middle;\n",
       "    }\n",
       "\n",
       "    .dataframe tbody tr th {\n",
       "        vertical-align: top;\n",
       "    }\n",
       "\n",
       "    .dataframe thead th {\n",
       "        text-align: right;\n",
       "    }\n",
       "</style>\n",
       "<table border=\"1\" class=\"dataframe\">\n",
       "  <thead>\n",
       "    <tr style=\"text-align: right;\">\n",
       "      <th></th>\n",
       "      <th>08-06-2020</th>\n",
       "      <th>08-06-2020.1</th>\n",
       "      <th>picopizza.dk</th>\n",
       "      <th>-238,00</th>\n",
       "      <th>11.278,33</th>\n",
       "    </tr>\n",
       "  </thead>\n",
       "  <tbody>\n",
       "    <tr>\n",
       "      <th>0</th>\n",
       "      <td>08-06-2020</td>\n",
       "      <td>08-06-2020</td>\n",
       "      <td>Dankort Netto H.C Ørstedsv</td>\n",
       "      <td>-390,75</td>\n",
       "      <td>11.516,33</td>\n",
       "    </tr>\n",
       "    <tr>\n",
       "      <th>1</th>\n",
       "      <td>03-06-2020</td>\n",
       "      <td>03-06-2020</td>\n",
       "      <td>Dankort Kantinen OPA 34</td>\n",
       "      <td>-19,80</td>\n",
       "      <td>11.907,08</td>\n",
       "    </tr>\n",
       "    <tr>\n",
       "      <th>2</th>\n",
       "      <td>03-06-2020</td>\n",
       "      <td>03-06-2020</td>\n",
       "      <td>Dankort REMA 1000 Århus C</td>\n",
       "      <td>-51,15</td>\n",
       "      <td>11.926,88</td>\n",
       "    </tr>\n",
       "    <tr>\n",
       "      <th>3</th>\n",
       "      <td>02-06-2020</td>\n",
       "      <td>02-06-2020</td>\n",
       "      <td>Dankort REMA 1000 Århus C</td>\n",
       "      <td>-71,40</td>\n",
       "      <td>11.978,03</td>\n",
       "    </tr>\n",
       "    <tr>\n",
       "      <th>4</th>\n",
       "      <td>02-06-2020</td>\n",
       "      <td>02-06-2020</td>\n",
       "      <td>Dankort Kantinen OPA 34</td>\n",
       "      <td>-18,90</td>\n",
       "      <td>12.049,43</td>\n",
       "    </tr>\n",
       "  </tbody>\n",
       "</table>\n",
       "</div>"
      ],
      "text/plain": [
       "   08-06-2020 08-06-2020.1                picopizza.dk  -238,00  11.278,33\n",
       "0  08-06-2020   08-06-2020  Dankort Netto H.C Ørstedsv  -390,75  11.516,33\n",
       "1  03-06-2020   03-06-2020     Dankort Kantinen OPA 34   -19,80  11.907,08\n",
       "2  03-06-2020   03-06-2020   Dankort REMA 1000 Århus C   -51,15  11.926,88\n",
       "3  02-06-2020   02-06-2020   Dankort REMA 1000 Århus C   -71,40  11.978,03\n",
       "4  02-06-2020   02-06-2020     Dankort Kantinen OPA 34   -18,90  12.049,43"
      ]
     },
     "execution_count": 4,
     "metadata": {},
     "output_type": "execute_result"
    }
   ],
   "source": [
    "df = pd.read_csv('export.csv',delimiter=';')\n",
    "df.head()"
   ]
  },
  {
   "cell_type": "code",
   "execution_count": null,
   "metadata": {},
   "outputs": [],
   "source": [
    "df."
   ]
  }
 ],
 "metadata": {
  "kernelspec": {
   "display_name": "Python 3",
   "language": "python",
   "name": "python3"
  },
  "language_info": {
   "codemirror_mode": {
    "name": "ipython",
    "version": 3
   },
   "file_extension": ".py",
   "mimetype": "text/x-python",
   "name": "python",
   "nbconvert_exporter": "python",
   "pygments_lexer": "ipython3",
   "version": "3.7.6"
  }
 },
 "nbformat": 4,
 "nbformat_minor": 4
}
